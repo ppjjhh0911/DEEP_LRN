{
 "cells": [
  {
   "cell_type": "code",
   "execution_count": 1,
   "metadata": {},
   "outputs": [
    {
     "name": "stderr",
     "output_type": "stream",
     "text": [
      "Using TensorFlow backend.\n"
     ]
    }
   ],
   "source": [
    "#모델 정의\n",
    "import keras\n",
    "from keras.models import Model\n",
    "from keras.layers.core import Dense,Dropout,Flatten\n",
    "from keras.optimizers import SGD\n",
    "\n",
    "#\n",
    "img_row_size, img_col_size = 224, 224\n",
    "def get_model():\n",
    "    # 최상위 전결층을 제외한 모델을 불러온다\n",
    "    \n",
    "    base_model=keras.applications.vgg16.VGG16(include_top=False,weights=None,\n",
    "                                             input_shape=(224,224,3))\n",
    "\n",
    "\n",
    "\n",
    "    # 최상위 전결층을 정의한다\n",
    "    out = Flatten()(base_model.output)\n",
    "    out = Dense(2048, activation='relu')(out)\n",
    "    out = Dropout(0.5)(out)\n",
    "    out = Dense(2048, activation='relu')(out)\n",
    "    out = Dropout(0.5)(out)\n",
    "    output = Dense(10, activation='softmax')(out)\n",
    "    model = Model(inputs=base_model.input, outputs=output)\n",
    "\n",
    "    # SGD Optimizer를 사용하여, 모델을 compile한다\n",
    "    sgd = SGD(lr=1e-4, decay=1e-6, momentum=0.9, nesterov=True)\n",
    "    model.compile(optimizer=sgd, loss='categorical_crossentropy', metrics=['accuracy'])\n",
    "    return model"
   ]
  },
  {
   "cell_type": "code",
   "execution_count": 2,
   "metadata": {},
   "outputs": [
    {
     "name": "stdout",
     "output_type": "stream",
     "text": [
      "Found 22424 images belonging to 10 classes.\n",
      "Found 79726 images belonging to 1 classes.\n"
     ]
    }
   ],
   "source": [
    "#데이터 전처리\n",
    "#train_path=주소 train주소만 넣어주시면 됩니다\n",
    "#test_path주소 datagenerator를 하기위해서 test2라는 폴더를 만들어서 안에다가 test이미지를 넣어준다.그래서 test2가되는겁니다.\n",
    "train_path='C:\\\\Users\\\\juhee\\\\.kaggle\\\\competitions\\\\state-farm-distracted-driver-detection\\\\imgs\\\\train'\n",
    "test_path='C:\\\\Users\\\\juhee\\\\.kaggle\\\\competitions\\\\state-farm-distracted-driver-detection\\\\imgs\\\\test2'\n",
    "\n",
    "from keras.preprocessing.image import ImageDataGenerator\n",
    "\n",
    "#이미지 데이터 전처리를 수행하는 함수를 정의한다\n",
    "datagen=ImageDataGenerator()\n",
    "\n",
    "train_generator=datagen.flow_from_directory(\n",
    "    directory=train_path,\n",
    "    target_size=(224,224),\n",
    "    batch_size=8,\n",
    "    class_mode='categorical',\n",
    "    seed=2018\n",
    "\n",
    ")\n",
    "\n",
    "test_generator=datagen.flow_from_directory(\n",
    "    directory=test_path,\n",
    "    target_size=(224,224),\n",
    "    batch_size=1,\n",
    "    class_mode=None,\n",
    "    shuffle=False\n",
    "\n",
    ")"
   ]
  },
  {
   "cell_type": "code",
   "execution_count": null,
   "metadata": {},
   "outputs": [],
   "source": [
    "from glob import glob\n",
    "import numpy as np\n",
    "import subprocess\n",
    "import os\n",
    "nfolds = 5\n",
    "labels = ['c0', 'c1', 'c2', 'c3', 'c4', 'c5', 'c6', 'c7', 'c8', 'c9']\n",
    "#랜덤으로 교차검증을 하기위해서 데이터가 들어갈  temp_train_fold와 temp_valid_fold를 만들어주빈다\n",
    "temp_train_fold='C:\\\\Users\\\\juhee\\\\.kaggle\\\\competitions\\\\state-farm-distracted-driver-detection\\\\imgs\\\\fold\\\\temp_train_fold'\n",
    "temp_valid_fold='C:\\\\Users\\\\juhee\\\\.kaggle\\\\competitions\\\\state-farm-distracted-driver-detection\\\\imgs\\\\fold\\\\temp_valid_fold'\n",
    "nfolds = 5\n",
    "labels = ['c0', 'c1', 'c2', 'c3', 'c4', 'c5', 'c6', 'c7', 'c8', 'c9']\n",
    "n_class=10\n",
    "\n",
    "def generate_split():\n",
    "    def _generate_temp_folder(root_path):\n",
    "        os.mkdir(root_path)\n",
    "        print(root_path)\n",
    "        for i in range(n_class):\n",
    "            os.mkdir('{}/c{}'.format(root_path,i))\n",
    "            path = ('{}/c{}'.format(root_path,i))\n",
    "            print(path)\n",
    "    _generate_temp_folder(temp_train_fold)\n",
    "    _generate_temp_folder(temp_valid_fold)\n",
    "    train_samples = 0\n",
    "    valid_samples = 0\n",
    "    for label in labels:\n",
    "        files=glob('{}/{}/*jpg'.format(train_path,label))\n",
    "        for fl in files:\n",
    "                cmd='cp {} {}/{}/{}'\n",
    "                if np.random.randint(nfolds)!=1:\n",
    "                    cmd=cmd.format(fl,temp_train_fold,label,os.path.basename(fl))\n",
    "                    train_samples += 1\n",
    "                else:\n",
    "                    cmd=cmd.format(fl,temp_valid_fold,label,os.path.basename(fl))\n",
    "                    valid_samples += 1\n",
    "                subprocess.call(cmd ,stderr=subprocess.STDOUT, shell=True)\n",
    "\n",
    "    print('# {} train samples | {} valid samples'.format(train_samples, valid_samples))\n",
    "    return train_samples, valid_samples"
   ]
  },
  {
   "cell_type": "code",
   "execution_count": null,
   "metadata": {},
   "outputs": [
    {
     "name": "stdout",
     "output_type": "stream",
     "text": [
      "#Train Model\n",
      "Found 79726 images belonging to 1 classes.\n",
      "Found 18005 images belonging to 10 classes.\n",
      "Found 4419 images belonging to 10 classes.\n",
      "Epoch 1/500\n",
      "2236/2236 [==============================] - 6033s 3s/step - loss: 2.3087 - acc: 0.1140 - val_loss: 2.2992 - val_acc: 0.1105\n",
      "Epoch 2/500\n",
      "2236/2236 [==============================] - 6028s 3s/step - loss: 2.2985 - acc: 0.1123 - val_loss: 2.2995 - val_acc: 0.1073\n",
      "Epoch 3/500\n",
      "2236/2236 [==============================] - 27032s 12s/step - loss: 2.2983 - acc: 0.0984 - val_loss: 2.2892 - val_acc: 0.1682\n",
      "Epoch 4/500\n",
      "2236/2236 [==============================] - 9595s 4s/step - loss: 2.1463 - acc: 0.2097 - val_loss: 1.7954 - val_acc: 0.3900\n",
      "Epoch 5/500\n",
      "2236/2236 [==============================] - 6123s 3s/step - loss: 1.5832 - acc: 0.4302 - val_loss: 1.2670 - val_acc: 0.5322\n",
      "Epoch 6/500\n",
      "2236/2236 [==============================] - 7095s 3s/step - loss: 1.2896 - acc: 0.5434 - val_loss: 1.0971 - val_acc: 0.5970\n",
      "Epoch 7/500\n",
      "2236/2236 [==============================] - 6827s 3s/step - loss: 1.0707 - acc: 0.6149 - val_loss: 0.8918 - val_acc: 0.7285\n",
      "Epoch 8/500\n",
      "1962/2236 [=========================>....] - ETA: 11:51 - loss: 0.8879 - acc: 0.7115"
     ]
    }
   ],
   "source": [
    "from keras.callbacks import EarlyStopping,ModelCheckpoint\n",
    "import pandas as pd\n",
    "import shutil\n",
    "from glob import glob\n",
    "import numpy as np\n",
    "import subprocess\n",
    "import os\n",
    "nfolds = 5\n",
    "labels = ['c0', 'c1', 'c2', 'c3', 'c4', 'c5', 'c6', 'c7', 'c8', 'c9']\n",
    "n_class=10\n",
    "print('#Train Model')\n",
    "\n",
    "datagen=ImageDataGenerator()\n",
    "test_generator =datagen.flow_from_directory(\n",
    "    #밑에부분은 test path 집어넣어주시면 됩니다\n",
    "    'C:\\\\Users\\\\juhee\\\\.kaggle\\\\competitions\\\\state-farm-distracted-driver-detection\\\\imgs\\\\test2',\n",
    "    target_size=(224,224),\n",
    "    batch_size=1,\n",
    "    class_mode=None,\n",
    "    shuffle=False)\n",
    "\n",
    "\n",
    "test_id=[os.path.basename(fl) for fl in glob('{}/imgs/*.jpg'.format(test_path))]\n",
    "\n",
    "for fold in range(nfolds):\n",
    "    model= get_model()\n",
    "    \n",
    "    train_samples ,valid_samples =generate_split()\n",
    "    \n",
    "    train_generator =datagen.flow_from_directory(\n",
    "    directory=temp_train_fold,\n",
    "    target_size=(224,224),\n",
    "    batch_size=1,\n",
    "    class_mode='categorical',\n",
    "    seed=10)\n",
    "    \n",
    "    valid_generator =datagen.flow_from_directory(\n",
    "    directory=temp_valid_fold,\n",
    "    target_size=(224,224),\n",
    "    batch_size=1,\n",
    "    class_mode='categorical',\n",
    "    seed=10)\n",
    "    \n",
    "    callbacks = [EarlyStopping(monitor='val_loss', patience=3, verbose=0),\n",
    "                  ModelCheckpoint('5.h', monitor='val_loss', save_best_only=True, verbose=0)]\n",
    "    model.fit_generator(train_generator,steps_per_epoch=2236,epochs=500,validation_data=valid_generator,validation_steps=2236,shuffle=True,\n",
    "                       callbacks=callbacks,verbose=1)\n"
   ]
  },
  {
   "cell_type": "code",
   "execution_count": 1,
   "metadata": {},
   "outputs": [
    {
     "ename": "NameError",
     "evalue": "name 'model' is not defined",
     "output_type": "error",
     "traceback": [
      "\u001b[1;31m---------------------------------------------------------------------------\u001b[0m",
      "\u001b[1;31mNameError\u001b[0m                                 Traceback (most recent call last)",
      "\u001b[1;32m<ipython-input-1-a701aecd1b19>\u001b[0m in \u001b[0;36m<module>\u001b[1;34m\u001b[0m\n\u001b[0;32m      1\u001b[0m \u001b[1;31m#예측결과를 케글에다가 제출한다.\u001b[0m\u001b[1;33m\u001b[0m\u001b[1;33m\u001b[0m\u001b[1;33m\u001b[0m\u001b[0m\n\u001b[0;32m      2\u001b[0m \u001b[1;33m\u001b[0m\u001b[0m\n\u001b[1;32m----> 3\u001b[1;33m preds=model.predict_generator(\n\u001b[0m\u001b[0;32m      4\u001b[0m     \u001b[0mtest_generator\u001b[0m\u001b[1;33m,\u001b[0m\u001b[1;33m\u001b[0m\u001b[1;33m\u001b[0m\u001b[0m\n\u001b[0;32m      5\u001b[0m     \u001b[0msteps\u001b[0m\u001b[1;33m=\u001b[0m\u001b[0mlen\u001b[0m\u001b[1;33m(\u001b[0m\u001b[0mtest_id\u001b[0m\u001b[1;33m)\u001b[0m\u001b[1;33m,\u001b[0m\u001b[1;33m\u001b[0m\u001b[1;33m\u001b[0m\u001b[0m\n",
      "\u001b[1;31mNameError\u001b[0m: name 'model' is not defined"
     ]
    }
   ],
   "source": []
  },
  {
   "cell_type": "code",
   "execution_count": null,
   "metadata": {},
   "outputs": [],
   "source": []
  },
  {
   "cell_type": "code",
   "execution_count": null,
   "metadata": {},
   "outputs": [],
   "source": []
  },
  {
   "cell_type": "code",
   "execution_count": null,
   "metadata": {},
   "outputs": [],
   "source": []
  },
  {
   "cell_type": "code",
   "execution_count": null,
   "metadata": {},
   "outputs": [],
   "source": []
  },
  {
   "cell_type": "code",
   "execution_count": null,
   "metadata": {},
   "outputs": [],
   "source": []
  }
 ],
 "metadata": {
  "kernelspec": {
   "display_name": "Python 3",
   "language": "python",
   "name": "python3"
  },
  "language_info": {
   "codemirror_mode": {
    "name": "ipython",
    "version": 3
   },
   "file_extension": ".py",
   "mimetype": "text/x-python",
   "name": "python",
   "nbconvert_exporter": "python",
   "pygments_lexer": "ipython3",
   "version": "3.6.7"
  }
 },
 "nbformat": 4,
 "nbformat_minor": 2
}
