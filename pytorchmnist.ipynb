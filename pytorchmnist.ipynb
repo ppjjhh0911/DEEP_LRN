{
  "nbformat": 4,
  "nbformat_minor": 0,
  "metadata": {
    "colab": {
      "name": "pytorchmnist.ipynb",
      "version": "0.3.2",
      "provenance": []
    },
    "kernelspec": {
      "name": "python3",
      "display_name": "Python 3"
    },
    "accelerator": "GPU"
  },
  "cells": [
    {
      "cell_type": "code",
      "metadata": {
        "id": "IBLsto4SYIgA",
        "colab_type": "code",
        "colab": {
          "base_uri": "https://localhost:8080/",
          "height": 127
        },
        "outputId": "9e5fa7fa-96ff-48e2-f026-1a3c3f6d2cf5"
      },
      "source": [
        "from google.colab import drive\n",
        "\n",
        "drive.mount('/gdrive', force_remount=True)"
      ],
      "execution_count": 2,
      "outputs": [
        {
          "output_type": "stream",
          "text": [
            "Go to this URL in a browser: https://accounts.google.com/o/oauth2/auth?client_id=947318989803-6bn6qk8qdgf4n4g3pfee6491hc0brc4i.apps.googleusercontent.com&redirect_uri=urn%3Aietf%3Awg%3Aoauth%3A2.0%3Aoob&scope=email%20https%3A%2F%2Fwww.googleapis.com%2Fauth%2Fdocs.test%20https%3A%2F%2Fwww.googleapis.com%2Fauth%2Fdrive%20https%3A%2F%2Fwww.googleapis.com%2Fauth%2Fdrive.photos.readonly%20https%3A%2F%2Fwww.googleapis.com%2Fauth%2Fpeopleapi.readonly&response_type=code\n",
            "\n",
            "Enter your authorization code:\n",
            "··········\n",
            "Mounted at /gdrive\n"
          ],
          "name": "stdout"
        }
      ]
    },
    {
      "cell_type": "code",
      "metadata": {
        "id": "YjQt4HGJYQXv",
        "colab_type": "code",
        "colab": {}
      },
      "source": [
        "import itertools\n",
        "\n",
        "import torch \n",
        "import torch.nn as nn\n",
        "import torch.nn.functional as F\n",
        "import torch.optim as optim\n",
        "from torchvision import datasets, transforms\n",
        "\n",
        "from IPython.display import Image\n",
        "from IPython import display\n",
        "import matplotlib.pyplot as plt\n",
        "\n",
        "%matplotlib inline"
      ],
      "execution_count": 0,
      "outputs": []
    },
    {
      "cell_type": "code",
      "metadata": {
        "id": "RsWwWerCYgYU",
        "colab_type": "code",
        "colab": {
          "base_uri": "https://localhost:8080/",
          "height": 35
        },
        "outputId": "c561a5c7-54c3-4613-e21c-0f61eb5f5706"
      },
      "source": [
        "torch.cuda.get_device_name(0)"
      ],
      "execution_count": 4,
      "outputs": [
        {
          "output_type": "execute_result",
          "data": {
            "text/plain": [
              "'Tesla T4'"
            ]
          },
          "metadata": {
            "tags": []
          },
          "execution_count": 4
        }
      ]
    },
    {
      "cell_type": "code",
      "metadata": {
        "id": "PWNaP3fWYi7U",
        "colab_type": "code",
        "colab": {
          "base_uri": "https://localhost:8080/",
          "height": 289
        },
        "outputId": "2d0a802e-35d7-46d7-8cd6-ebefa65f1ba4"
      },
      "source": [
        "# prepare batch_loader \n",
        "batch_size=64\n",
        "trn_dataset = datasets.MNIST('../mnist_data/',\n",
        "                             download=True,\n",
        "                             train=True,\n",
        "                             transform=transforms.Compose([\n",
        "                                 transforms.ToTensor(), # image to Tensor\n",
        "                                 transforms.Normalize((0.1307,), (0.3081,)) # image, label\n",
        "                             ])) \n",
        "\n",
        "trn_loader = torch.utils.data.DataLoader(trn_dataset,\n",
        "                                         batch_size=batch_size,\n",
        "                                         shuffle=True)"
      ],
      "execution_count": 5,
      "outputs": [
        {
          "output_type": "stream",
          "text": [
            "  0%|          | 0/9912422 [00:00<?, ?it/s]"
          ],
          "name": "stderr"
        },
        {
          "output_type": "stream",
          "text": [
            "Downloading http://yann.lecun.com/exdb/mnist/train-images-idx3-ubyte.gz to ../mnist_data/MNIST/raw/train-images-idx3-ubyte.gz\n"
          ],
          "name": "stdout"
        },
        {
          "output_type": "stream",
          "text": [
            "9920512it [00:00, 19633811.95it/s]                            \n"
          ],
          "name": "stderr"
        },
        {
          "output_type": "stream",
          "text": [
            "Extracting ../mnist_data/MNIST/raw/train-images-idx3-ubyte.gz\n"
          ],
          "name": "stdout"
        },
        {
          "output_type": "stream",
          "text": [
            "32768it [00:00, 331506.51it/s]\n",
            "0it [00:00, ?it/s]"
          ],
          "name": "stderr"
        },
        {
          "output_type": "stream",
          "text": [
            "Downloading http://yann.lecun.com/exdb/mnist/train-labels-idx1-ubyte.gz to ../mnist_data/MNIST/raw/train-labels-idx1-ubyte.gz\n",
            "Extracting ../mnist_data/MNIST/raw/train-labels-idx1-ubyte.gz\n",
            "Downloading http://yann.lecun.com/exdb/mnist/t10k-images-idx3-ubyte.gz to ../mnist_data/MNIST/raw/t10k-images-idx3-ubyte.gz\n"
          ],
          "name": "stdout"
        },
        {
          "output_type": "stream",
          "text": [
            "1654784it [00:00, 5174103.90it/s]                           \n",
            "8192it [00:00, 131582.48it/s]\n"
          ],
          "name": "stderr"
        },
        {
          "output_type": "stream",
          "text": [
            "Extracting ../mnist_data/MNIST/raw/t10k-images-idx3-ubyte.gz\n",
            "Downloading http://yann.lecun.com/exdb/mnist/t10k-labels-idx1-ubyte.gz to ../mnist_data/MNIST/raw/t10k-labels-idx1-ubyte.gz\n",
            "Extracting ../mnist_data/MNIST/raw/t10k-labels-idx1-ubyte.gz\n",
            "Processing...\n",
            "Done!\n"
          ],
          "name": "stdout"
        }
      ]
    },
    {
      "cell_type": "code",
      "metadata": {
        "id": "bAN9Ql5EYyo7",
        "colab_type": "code",
        "colab": {}
      },
      "source": [
        "val_dataset = datasets.MNIST(\"../mnist_data/\", \n",
        "                             download=False,\n",
        "                             train=False,\n",
        "                             transform= transforms.Compose([\n",
        "                               transforms.ToTensor(),\n",
        "                               transforms.Normalize((0.1307, ),(0.3081, ))\n",
        "                           ]))\n",
        "\n",
        "val_loader = torch.utils.data.DataLoader(val_dataset,\n",
        "                                         batch_size=batch_size,\n",
        "                                         shuffle=True)"
      ],
      "execution_count": 0,
      "outputs": []
    },
    {
      "cell_type": "code",
      "metadata": {
        "id": "n0-4P6jhY0sj",
        "colab_type": "code",
        "colab": {}
      },
      "source": [
        "num_batches = len(trn_loader)"
      ],
      "execution_count": 0,
      "outputs": []
    },
    {
      "cell_type": "markdown",
      "metadata": {
        "id": "va2uE7zcY5em",
        "colab_type": "text"
      },
      "source": [
        "MNIST 그림을 확인해보자."
      ]
    },
    {
      "cell_type": "code",
      "metadata": {
        "id": "gRbcf3DkY2tT",
        "colab_type": "code",
        "colab": {}
      },
      "source": [
        "data = next(iter(trn_loader))"
      ],
      "execution_count": 0,
      "outputs": []
    },
    {
      "cell_type": "code",
      "metadata": {
        "id": "ZFKBOWE2ZCFK",
        "colab_type": "code",
        "colab": {}
      },
      "source": [
        "img, label = data"
      ],
      "execution_count": 0,
      "outputs": []
    },
    {
      "cell_type": "code",
      "metadata": {
        "id": "CPqYrWq1ZEwx",
        "colab_type": "code",
        "colab": {
          "base_uri": "https://localhost:8080/",
          "height": 35
        },
        "outputId": "c4df8daa-c74a-4e0b-8079-35b785330a1f"
      },
      "source": [
        "img.size() # batch_size, num_channel, x, y"
      ],
      "execution_count": 10,
      "outputs": [
        {
          "output_type": "execute_result",
          "data": {
            "text/plain": [
              "torch.Size([64, 1, 28, 28])"
            ]
          },
          "metadata": {
            "tags": []
          },
          "execution_count": 10
        }
      ]
    },
    {
      "cell_type": "code",
      "metadata": {
        "id": "JZCMnoHwZG8B",
        "colab_type": "code",
        "colab": {
          "base_uri": "https://localhost:8080/",
          "height": 35
        },
        "outputId": "e000cb62-1073-4442-8e28-e5ee969eff02"
      },
      "source": [
        "label.size() # 0~9까지의 숫자가 batch_size 만큼"
      ],
      "execution_count": 11,
      "outputs": [
        {
          "output_type": "execute_result",
          "data": {
            "text/plain": [
              "torch.Size([64])"
            ]
          },
          "metadata": {
            "tags": []
          },
          "execution_count": 11
        }
      ]
    },
    {
      "cell_type": "code",
      "metadata": {
        "id": "1cBD6YoaZKLJ",
        "colab_type": "code",
        "colab": {
          "base_uri": "https://localhost:8080/",
          "height": 357
        },
        "outputId": "708d9ebc-a2bb-4c8a-9d90-066802313352"
      },
      "source": [
        "# create figure for plotting\n",
        "row_num = 5\n",
        "col_num = 4\n",
        "fig, ax = plt.subplots(row_num, col_num, figsize=(6,6))\n",
        "for i, j in itertools.product(range(row_num), range(col_num)):\n",
        "    ax[i,j].get_xaxis().set_visible(False)\n",
        "    ax[i,j].get_yaxis().set_visible(False)\n",
        "    \n",
        "    \n",
        "for k in range(row_num*col_num):\n",
        "    i = k//col_num\n",
        "    j = k%col_num\n",
        "    ax[i,j].cla() # clear the current axis\n",
        "    ax[i,j].imshow(img[k,:].data.cpu().numpy().reshape(28,28), cmap='Greys')"
      ],
      "execution_count": 12,
      "outputs": [
        {
          "output_type": "display_data",
          "data": {
            "image/png": "[encoded data removed]",
            "text/plain": [
              "<Figure size 432x432 with 20 Axes>"
            ]
          },
          "metadata": {
            "tags": []
          }
        }
      ]
    },
    {
      "cell_type": "code",
      "metadata": {
        "id": "8rTHW2ZPZMSi",
        "colab_type": "code",
        "colab": {}
      },
      "source": [
        "# construct model on cuda if available\n",
        "\n",
        "use_cuda = torch.cuda.is_available()\n",
        "\n",
        "class CNNClassifier(nn.Module):\n",
        "    \n",
        "    def __init__(self):\n",
        "        # 항상 torch.nn.Module을 상속받고 시작\n",
        "        super(CNNClassifier, self).__init__()\n",
        "        conv1 = nn.Conv2d(1, 6, 5, 1) # 6@24*24\n",
        "        # activation ReLU\n",
        "        pool1 = nn.MaxPool2d(2) # 6@12*12\n",
        "        conv2 = nn.Conv2d(6, 16, 5, 1) # 16@8*8\n",
        "        # activation ReLU\n",
        "        pool2 = nn.MaxPool2d(2) # 16@4*4\n",
        "        \n",
        "        self.conv_module = nn.Sequential(\n",
        "            conv1,\n",
        "            nn.ReLU(),\n",
        "            pool1,\n",
        "            conv2,\n",
        "            nn.ReLU(),\n",
        "            pool2\n",
        "        )\n",
        "        \n",
        "        fc1 = nn.Linear(16*4*4, 120)\n",
        "        # activation ReLU\n",
        "        fc2 = nn.Linear(120, 84)\n",
        "        # activation ReLU\n",
        "        fc3 = nn.Linear(84, 10)\n",
        "\n",
        "        self.fc_module = nn.Sequential(\n",
        "            fc1,\n",
        "            nn.ReLU(),\n",
        "            fc2,\n",
        "            nn.ReLU(),\n",
        "            fc3\n",
        "        )\n",
        "        \n",
        "        # gpu로 할당\n",
        "        if use_cuda:\n",
        "            self.conv_module = self.conv_module.cuda()\n",
        "            self.fc_module = self.fc_module.cuda()\n",
        "        \n",
        "    def forward(self, x):\n",
        "        out = self.conv_module(x) # @16*4*4\n",
        "        # make linear\n",
        "        dim = 1\n",
        "        for d in out.size()[1:]: #16, 4, 4\n",
        "            dim = dim * d\n",
        "        out = out.view(-1, dim)\n",
        "        out = self.fc_module(out)\n",
        "        return F.softmax(out, dim=1)"
      ],
      "execution_count": 0,
      "outputs": []
    },
    {
      "cell_type": "code",
      "metadata": {
        "id": "9LbJf2GpZT2Z",
        "colab_type": "code",
        "colab": {}
      },
      "source": [
        "cnn = CNNClassifier()"
      ],
      "execution_count": 0,
      "outputs": []
    },
    {
      "cell_type": "markdown",
      "metadata": {
        "id": "19HI4JuYZdBj",
        "colab_type": "text"
      },
      "source": [
        "Training model\n",
        "What do we need? \n",
        "\n",
        "  1.loss ex) MSELoss\n",
        "  2.backpropagation method ex) SGD ... \n",
        "  2.1 update할 parameter들 \n",
        "  2.2 learning rate\n",
        "\n",
        "  .3hyperparamters ex) num_epochs ..."
      ]
    },
    {
      "cell_type": "code",
      "metadata": {
        "id": "Vgj0cRXSZWD5",
        "colab_type": "code",
        "colab": {}
      },
      "source": [
        "# loss\n",
        "criterion = nn.CrossEntropyLoss()\n",
        "# backpropagation method\n",
        "learning_rate = 1e-3\n",
        "optimizer = optim.Adam(cnn.parameters(), lr=learning_rate)"
      ],
      "execution_count": 0,
      "outputs": []
    },
    {
      "cell_type": "code",
      "metadata": {
        "id": "I6lgUynVZoBo",
        "colab_type": "code",
        "colab": {}
      },
      "source": [
        "# hyper-parameters\n",
        "num_epochs = 2"
      ],
      "execution_count": 0,
      "outputs": []
    },
    {
      "cell_type": "code",
      "metadata": {
        "id": "1D4qzuvkZpdI",
        "colab_type": "code",
        "colab": {
          "base_uri": "https://localhost:8080/",
          "height": 35
        },
        "outputId": "5a3bc80a-bc65-4312-818e-223cf2d323b3"
      },
      "source": [
        "num_batches"
      ],
      "execution_count": 17,
      "outputs": [
        {
          "output_type": "execute_result",
          "data": {
            "text/plain": [
              "938"
            ]
          },
          "metadata": {
            "tags": []
          },
          "execution_count": 17
        }
      ]
    },
    {
      "cell_type": "code",
      "metadata": {
        "id": "3q9k_fTjZqpI",
        "colab_type": "code",
        "colab": {
          "base_uri": "https://localhost:8080/",
          "height": 35
        },
        "outputId": "cda59ff2-3cdd-4c6b-cc7e-6b7a7a5a8f56"
      },
      "source": [
        "batch_size\n"
      ],
      "execution_count": 18,
      "outputs": [
        {
          "output_type": "execute_result",
          "data": {
            "text/plain": [
              "64"
            ]
          },
          "metadata": {
            "tags": []
          },
          "execution_count": 18
        }
      ]
    },
    {
      "cell_type": "code",
      "metadata": {
        "id": "ONG9kCsnZslQ",
        "colab_type": "code",
        "colab": {
          "base_uri": "https://localhost:8080/",
          "height": 601
        },
        "outputId": "e513b606-10bc-48bf-be4b-4d67f28173ed"
      },
      "source": [
        "# create figure for plotting\n",
        "row_num = 2\n",
        "col_num = 4\n",
        "fig, ax = plt.subplots(row_num, col_num, figsize=(6,6))\n",
        "for i, j in itertools.product(range(row_num), range(col_num)):\n",
        "    ax[i,j].get_xaxis().set_visible(False)\n",
        "    ax[i,j].get_yaxis().set_visible(False) \n",
        "    \n",
        "trn_loss_list = []\n",
        "val_loss_list = []\n",
        "\n",
        "for epoch in range(num_epochs):\n",
        "    trn_loss = 0.0\n",
        "    for i, data in enumerate(trn_loader):\n",
        "        x, label = data\n",
        "        if use_cuda:\n",
        "            x = x.cuda()\n",
        "            label = label.cuda()\n",
        "        # grad init\n",
        "        optimizer.zero_grad()\n",
        "        # forward propagation\n",
        "        model_output = cnn(x)\n",
        "        # calculate loss\n",
        "        loss = criterion(model_output, label)\n",
        "        # back propagation \n",
        "        loss.backward()\n",
        "        # weight update\n",
        "        optimizer.step()\n",
        "        \n",
        "        # trn_loss summary\n",
        "        trn_loss += loss.item()\n",
        "        # del (memory issue)\n",
        "        del loss\n",
        "        del model_output\n",
        "        \n",
        "        # 학습과정 출력\n",
        "        if (i+1) % 100 == 0: # every 100 mini-batches\n",
        "            with torch.no_grad(): # very very very very important!!!\n",
        "                val_loss = 0.0\n",
        "                for j, val in enumerate(val_loader):\n",
        "                    val_x, val_label = val\n",
        "                    if use_cuda:\n",
        "                        val_x = val_x.cuda()\n",
        "                        val_label =val_label.cuda()\n",
        "                    val_output = cnn(val_x)\n",
        "                    v_loss = criterion(val_output, val_label)\n",
        "                    val_loss += v_loss\n",
        "\n",
        "            # draw last val dataset\n",
        "            for k in range(row_num*col_num):\n",
        "                ii = k//col_num\n",
        "                jj = k%col_num\n",
        "                ax[ii,jj].cla() # clear the current axis\n",
        "                ax[ii,jj].imshow(val_x[k,:].data.cpu().numpy().reshape(28,28), cmap='Greys')\n",
        "            \n",
        "            display.clear_output(wait=True)\n",
        "            display.display(plt.gcf()) # get a reference to a current figure\n",
        "                \n",
        "            print(\"label: {}\".format(val_label[:row_num*col_num]))\n",
        "            print(\"prediction: {}\".format(val_output.argmax(dim=1)[:row_num*col_num]))\n",
        "            del val_output\n",
        "            del v_loss\n",
        "            \n",
        "            print(\"epoch: {}/{} | step: {}/{} | trn loss: {:.4f} | val loss: {:.4f}\".format(\n",
        "                epoch+1, num_epochs, i+1, num_batches, trn_loss / 100, val_loss / len(val_loader)\n",
        "            ))            \n",
        "            \n",
        "            trn_loss_list.append(trn_loss/100)\n",
        "            val_loss_list.append(val_loss/len(val_loader))\n",
        "            trn_loss = 0.0"
      ],
      "execution_count": 19,
      "outputs": [
        {
          "output_type": "display_data",
          "data": {
            "image/png": "[encoded data removed]",
            "text/plain": [
              "<Figure size 432x432 with 8 Axes>"
            ]
          },
          "metadata": {
            "tags": []
          }
        },
        {
          "output_type": "stream",
          "text": [
            "label: tensor([0, 3, 6, 9, 9, 3, 7, 7], device='cuda:0')\n",
            "prediction: tensor([0, 3, 6, 9, 9, 3, 2, 7], device='cuda:0')\n",
            "epoch: 2/2 | step: 900/938 | trn loss: 1.4890 | val loss: 1.4974\n"
          ],
          "name": "stdout"
        },
        {
          "output_type": "display_data",
          "data": {
            "image/png": "[encoded data removed]",
            "text/plain": [
              "<Figure size 432x432 with 8 Axes>"
            ]
          },
          "metadata": {
            "tags": []
          }
        }
      ]
    },
    {
      "cell_type": "code",
      "metadata": {
        "id": "B6brOBdkZwJg",
        "colab_type": "code",
        "colab": {
          "base_uri": "https://localhost:8080/",
          "height": 573
        },
        "outputId": "3e45f1cc-fbf0-491e-a07b-fb4a3e1b86f5"
      },
      "source": [
        "plt.figure(figsize=(16,9))\n",
        "x_range = range(len(trn_loss_list))\n",
        "plt.plot(x_range, trn_loss_list, label=\"trn\")\n",
        "plt.plot(x_range, val_loss_list, label=\"val\")\n",
        "plt.legend()\n",
        "plt.xlabel(\"training steps\")\n",
        "plt.ylabel(\"loss\")"
      ],
      "execution_count": 20,
      "outputs": [
        {
          "output_type": "execute_result",
          "data": {
            "text/plain": [
              "Text(0, 0.5, 'loss')"
            ]
          },
          "metadata": {
            "tags": []
          },
          "execution_count": 20
        },
        {
          "output_type": "display_data",
          "data": {
            "image/png": "[encoded data removed]",
            "text/plain": [
              "<Figure size 1152x648 with 1 Axes>"
            ]
          },
          "metadata": {
            "tags": []
          }
        }
      ]
    },
    {
      "cell_type": "code",
      "metadata": {
        "id": "6xwFgmLmaBAX",
        "colab_type": "code",
        "colab": {}
      },
      "source": [
        ""
      ],
      "execution_count": 0,
      "outputs": []
    }
  ]
}